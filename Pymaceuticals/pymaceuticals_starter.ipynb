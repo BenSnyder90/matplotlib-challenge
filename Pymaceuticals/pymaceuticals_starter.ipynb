{
 "cells": [
  {
   "cell_type": "markdown",
   "metadata": {},
   "source": [
    "## Observations and Insights"
   ]
  },
  {
   "cell_type": "markdown",
   "metadata": {},
   "source": []
  },
  {
   "cell_type": "markdown",
   "metadata": {},
   "source": [
    "## Dependencies and starter code"
   ]
  },
  {
   "cell_type": "code",
   "execution_count": 6,
   "metadata": {},
   "outputs": [
    {
     "name": "stdout",
     "output_type": "stream",
     "text": "Mouse ID Drug Regimen     Sex  Age_months  Weight (g)\n0       k403     Ramicane    Male          21          16\n1       s185    Capomulin  Female           3          17\n2       x401    Capomulin  Female          16          15\n3       m601    Capomulin    Male          22          17\n4       g791     Ramicane    Male          11          16\n..       ...          ...     ...         ...         ...\n244     z314     Stelasyn  Female          21          28\n245     z435     Propriva  Female          12          26\n246     z581    Infubinol  Female          24          25\n247     z795     Naftisol  Female          13          29\n248     z969     Naftisol    Male           9          30\n\n[249 rows x 5 columns]\n     Mouse ID  Timepoint  Tumor Volume (mm3)  Metastatic Sites\n0        b128          0           45.000000                 0\n1        f932          0           45.000000                 0\n2        g107          0           45.000000                 0\n3        a457          0           45.000000                 0\n4        c819          0           45.000000                 0\n...       ...        ...                 ...               ...\n1888     r944         45           41.581521                 2\n1889     u364         45           31.023923                 3\n1890     p438         45           61.433892                 1\n1891     x773         45           58.634971                 4\n1892     b879         45           72.555239                 2\n\n[1893 rows x 4 columns]\n   Mouse ID Drug Regimen     Sex  Age_months  Weight (g)  Timepoint  \\\n0      k403     Ramicane    Male          21          16          0   \n1      k403     Ramicane    Male          21          16          5   \n2      k403     Ramicane    Male          21          16         10   \n3      k403     Ramicane    Male          21          16         15   \n4      k403     Ramicane    Male          21          16         20   \n5      k403     Ramicane    Male          21          16         25   \n6      k403     Ramicane    Male          21          16         30   \n7      k403     Ramicane    Male          21          16         35   \n8      k403     Ramicane    Male          21          16         40   \n9      k403     Ramicane    Male          21          16         45   \n10     s185    Capomulin  Female           3          17          0   \n11     s185    Capomulin  Female           3          17          5   \n12     s185    Capomulin  Female           3          17         10   \n13     s185    Capomulin  Female           3          17         15   \n14     s185    Capomulin  Female           3          17         20   \n15     s185    Capomulin  Female           3          17         25   \n16     s185    Capomulin  Female           3          17         30   \n17     s185    Capomulin  Female           3          17         35   \n18     s185    Capomulin  Female           3          17         40   \n19     s185    Capomulin  Female           3          17         45   \n\n    Tumor Volume (mm3)  Metastatic Sites  \n0            45.000000                 0  \n1            38.825898                 0  \n2            35.014271                 1  \n3            34.223992                 1  \n4            32.997729                 1  \n5            33.464577                 1  \n6            31.099498                 1  \n7            26.546993                 1  \n8            24.365505                 1  \n9            22.050126                 1  \n10           45.000000                 0  \n11           43.878496                 0  \n12           37.614948                 0  \n13           38.177232                 0  \n14           36.866876                 0  \n15           33.949940                 0  \n16           32.959671                 1  \n17           28.328531                 1  \n18           25.472143                 1  \n19           23.343598                 1  \n"
    }
   ],
   "source": [
    "# Dependencies and Setup\n",
    "import matplotlib.pyplot as plt\n",
    "import pandas as pd\n",
    "import scipy.stats as st\n",
    "\n",
    "# Study data files\n",
    "mouse_metadata = \"data/Mouse_metadata.csv\"\n",
    "study_results = \"data/Study_results.csv\"\n",
    "\n",
    "# Read the mouse data and the study results\n",
    "mouse_metadata = pd.read_csv(mouse_metadata)\n",
    "study_results = pd.read_csv(study_results)\n",
    "\n",
    "# Combine the data into a single dataset\n",
    "print(mouse_metadata)\n",
    "print(study_results)\n",
    "combined_data = pd.merge(mouse_metadata,study_results,how = 'outer',on=\"Mouse ID\")\n",
    "print(combined_data.head(20))"
   ]
  },
  {
   "cell_type": "markdown",
   "metadata": {},
   "source": [
    "## Summary statistics"
   ]
  },
  {
   "cell_type": "code",
   "execution_count": 2,
   "metadata": {},
   "outputs": [],
   "source": [
    "# Generate a summary statistics table of mean, median, variance, standard deviation, and SEM of the tumor volume for each regimen\n",
    "\n",
    "#Get"
   ]
  },
  {
   "cell_type": "markdown",
   "metadata": {},
   "source": [
    "## Bar plots"
   ]
  },
  {
   "cell_type": "code",
   "execution_count": 3,
   "metadata": {},
   "outputs": [],
   "source": [
    "# Generate a bar plot showing number of data points for each treatment regimen using pandas"
   ]
  },
  {
   "cell_type": "code",
   "execution_count": 4,
   "metadata": {},
   "outputs": [],
   "source": [
    "# Generate a bar plot showing number of data points for each treatment regimen using pyplot"
   ]
  },
  {
   "cell_type": "markdown",
   "metadata": {},
   "source": [
    "## Pie plots"
   ]
  },
  {
   "cell_type": "code",
   "execution_count": 5,
   "metadata": {},
   "outputs": [],
   "source": [
    "# Generate a pie plot showing the distribution of female versus male mice using pandas"
   ]
  },
  {
   "cell_type": "code",
   "execution_count": 6,
   "metadata": {},
   "outputs": [],
   "source": [
    "# Generate a pie plot showing the distribution of female versus male mice using pyplot"
   ]
  },
  {
   "cell_type": "markdown",
   "metadata": {},
   "source": [
    "## Quartiles, outliers and boxplots"
   ]
  },
  {
   "cell_type": "code",
   "execution_count": 7,
   "metadata": {},
   "outputs": [],
   "source": [
    "# Calculate the final tumor volume of each mouse across four of the most promising treatment regimens. Calculate the IQR and quantitatively determine if there are any potential outliers. "
   ]
  },
  {
   "cell_type": "code",
   "execution_count": 8,
   "metadata": {},
   "outputs": [],
   "source": [
    "# Generate a box plot of the final tumor volume of each mouse across four regimens of interest"
   ]
  },
  {
   "cell_type": "markdown",
   "metadata": {},
   "source": [
    "## Line and scatter plots"
   ]
  },
  {
   "cell_type": "code",
   "execution_count": 9,
   "metadata": {},
   "outputs": [],
   "source": [
    "# Generate a line plot of time point versus tumor volume for a mouse treated with Capomulin"
   ]
  },
  {
   "cell_type": "code",
   "execution_count": 10,
   "metadata": {},
   "outputs": [],
   "source": [
    "# Generate a scatter plot of mouse weight versus average tumor volume for the Capomulin regimen"
   ]
  },
  {
   "cell_type": "code",
   "execution_count": 11,
   "metadata": {},
   "outputs": [],
   "source": [
    "# Calculate the correlation coefficient and linear regression model for mouse weight and average tumor volume for the Capomulin regimen"
   ]
  },
  {
   "cell_type": "code",
   "execution_count": null,
   "metadata": {},
   "outputs": [],
   "source": []
  }
 ],
 "metadata": {
  "anaconda-cloud": {},
  "kernelspec": {
   "display_name": "Python 3.7.4 64-bit ('PythonData': conda)",
   "language": "python",
   "name": "python37464bitpythondatacondaaf71fc3f5dd34866a438487bc0d8ac87"
  },
  "language_info": {
   "codemirror_mode": {
    "name": "ipython",
    "version": 3
   },
   "file_extension": ".py",
   "mimetype": "text/x-python",
   "name": "python",
   "nbconvert_exporter": "python",
   "pygments_lexer": "ipython3",
   "version": "3.7.4-final"
  }
 },
 "nbformat": 4,
 "nbformat_minor": 2
}