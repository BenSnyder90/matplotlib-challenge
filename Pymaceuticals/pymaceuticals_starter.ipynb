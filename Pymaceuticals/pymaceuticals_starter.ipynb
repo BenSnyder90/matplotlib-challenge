{
 "cells": [
  {
   "cell_type": "markdown",
   "metadata": {},
   "source": [
    "## Observations and Insights"
   ]
  },
  {
   "cell_type": "markdown",
   "metadata": {},
   "source": []
  },
  {
   "cell_type": "markdown",
   "metadata": {},
   "source": [
    "## Dependencies and starter code"
   ]
  },
  {
   "cell_type": "code",
   "execution_count": 132,
   "metadata": {
    "scrolled": false
   },
   "outputs": [
    {
     "name": "stdout",
     "output_type": "stream",
     "text": [
      "    Mouse ID Drug Regimen     Sex  Age_months  Weight (g)\n",
      "0       k403     Ramicane    Male          21          16\n",
      "1       s185    Capomulin  Female           3          17\n",
      "2       x401    Capomulin  Female          16          15\n",
      "3       m601    Capomulin    Male          22          17\n",
      "4       g791     Ramicane    Male          11          16\n",
      "..       ...          ...     ...         ...         ...\n",
      "244     z314     Stelasyn  Female          21          28\n",
      "245     z435     Propriva  Female          12          26\n",
      "246     z581    Infubinol  Female          24          25\n",
      "247     z795     Naftisol  Female          13          29\n",
      "248     z969     Naftisol    Male           9          30\n",
      "\n",
      "[249 rows x 5 columns]\n",
      "     Mouse ID  Timepoint  Tumor Volume (mm3)  Metastatic Sites\n",
      "0        b128          0           45.000000                 0\n",
      "1        f932          0           45.000000                 0\n",
      "2        g107          0           45.000000                 0\n",
      "3        a457          0           45.000000                 0\n",
      "4        c819          0           45.000000                 0\n",
      "...       ...        ...                 ...               ...\n",
      "1888     r944         45           41.581521                 2\n",
      "1889     u364         45           31.023923                 3\n",
      "1890     p438         45           61.433892                 1\n",
      "1891     x773         45           58.634971                 4\n",
      "1892     b879         45           72.555239                 2\n",
      "\n",
      "[1893 rows x 4 columns]\n",
      "   Mouse ID Drug Regimen     Sex  Age_months  Weight (g)  Timepoint  \\\n",
      "0      k403     Ramicane    Male          21          16          0   \n",
      "1      k403     Ramicane    Male          21          16          5   \n",
      "2      k403     Ramicane    Male          21          16         10   \n",
      "3      k403     Ramicane    Male          21          16         15   \n",
      "4      k403     Ramicane    Male          21          16         20   \n",
      "5      k403     Ramicane    Male          21          16         25   \n",
      "6      k403     Ramicane    Male          21          16         30   \n",
      "7      k403     Ramicane    Male          21          16         35   \n",
      "8      k403     Ramicane    Male          21          16         40   \n",
      "9      k403     Ramicane    Male          21          16         45   \n",
      "10     s185    Capomulin  Female           3          17          0   \n",
      "11     s185    Capomulin  Female           3          17          5   \n",
      "12     s185    Capomulin  Female           3          17         10   \n",
      "13     s185    Capomulin  Female           3          17         15   \n",
      "14     s185    Capomulin  Female           3          17         20   \n",
      "15     s185    Capomulin  Female           3          17         25   \n",
      "16     s185    Capomulin  Female           3          17         30   \n",
      "17     s185    Capomulin  Female           3          17         35   \n",
      "18     s185    Capomulin  Female           3          17         40   \n",
      "19     s185    Capomulin  Female           3          17         45   \n",
      "\n",
      "    Tumor Volume (mm3)  Metastatic Sites  \n",
      "0            45.000000                 0  \n",
      "1            38.825898                 0  \n",
      "2            35.014271                 1  \n",
      "3            34.223992                 1  \n",
      "4            32.997729                 1  \n",
      "5            33.464577                 1  \n",
      "6            31.099498                 1  \n",
      "7            26.546993                 1  \n",
      "8            24.365505                 1  \n",
      "9            22.050126                 1  \n",
      "10           45.000000                 0  \n",
      "11           43.878496                 0  \n",
      "12           37.614948                 0  \n",
      "13           38.177232                 0  \n",
      "14           36.866876                 0  \n",
      "15           33.949940                 0  \n",
      "16           32.959671                 1  \n",
      "17           28.328531                 1  \n",
      "18           25.472143                 1  \n",
      "19           23.343598                 1  \n"
     ]
    }
   ],
   "source": [
    "# Dependencies and Setup\n",
    "import matplotlib.pyplot as plt\n",
    "import pandas as pd\n",
    "import scipy.stats as st\n",
    "import numpy as np\n",
    "from scipy.stats import linregress\n",
    "\n",
    "# Study data files\n",
    "mouse_metadata = \"data/Mouse_metadata.csv\"\n",
    "study_results = \"data/Study_results.csv\"\n",
    "\n",
    "# Read the mouse data and the study results\n",
    "mouse_metadata = pd.read_csv(mouse_metadata)\n",
    "study_results = pd.read_csv(study_results)\n",
    "\n",
    "# Combine the data into a single dataset\n",
    "print(mouse_metadata)\n",
    "print(study_results)\n",
    "combined_data = pd.merge(mouse_metadata,study_results,how = 'outer',on=\"Mouse ID\")\n",
    "print(combined_data.head(20))"
   ]
  },
  {
   "cell_type": "markdown",
   "metadata": {},
   "source": [
    "## Summary statistics"
   ]
  },
  {
   "cell_type": "code",
   "execution_count": 133,
   "metadata": {},
   "outputs": [
    {
     "name": "stdout",
     "output_type": "stream",
     "text": [
      "Drug Regimen\n",
      "Capomulin    40.675741\n",
      "Ceftamin     52.591172\n",
      "Infubinol    52.884795\n",
      "Ketapril     55.235638\n",
      "Naftisol     54.331565\n",
      "Placebo      54.033581\n",
      "Propriva     52.322552\n",
      "Ramicane     40.216745\n",
      "Stelasyn     54.233149\n",
      "Zoniferol    53.236507\n",
      "Name: Tumor Volume (mm3), dtype: float64\n",
      "Drug Regimen\n",
      "Capomulin    41.557809\n",
      "Ceftamin     51.776157\n",
      "Infubinol    51.820584\n",
      "Ketapril     53.698743\n",
      "Naftisol     52.509285\n",
      "Placebo      52.288934\n",
      "Propriva     50.854632\n",
      "Ramicane     40.673236\n",
      "Stelasyn     52.431737\n",
      "Zoniferol    51.818479\n",
      "Name: Tumor Volume (mm3), dtype: float64\n",
      "Drug Regimen\n",
      "Capomulin    24.947764\n",
      "Ceftamin     39.290177\n",
      "Infubinol    43.128684\n",
      "Ketapril     68.553577\n",
      "Naftisol     66.173479\n",
      "Placebo      61.168083\n",
      "Propriva     42.351070\n",
      "Ramicane     23.486704\n",
      "Stelasyn     59.450562\n",
      "Zoniferol    48.533355\n",
      "Name: Tumor Volume (mm3), dtype: float64\n",
      "Drug Regimen\n",
      "Capomulin    4.994774\n",
      "Ceftamin     6.268188\n",
      "Infubinol    6.567243\n",
      "Ketapril     8.279709\n",
      "Naftisol     8.134708\n",
      "Placebo      7.821003\n",
      "Propriva     6.507770\n",
      "Ramicane     4.846308\n",
      "Stelasyn     7.710419\n",
      "Zoniferol    6.966589\n",
      "Name: Tumor Volume (mm3), dtype: float64\n",
      "Drug Regimen\n",
      "Capomulin    0.329346\n",
      "Ceftamin     0.469821\n",
      "Infubinol    0.492236\n",
      "Ketapril     0.603860\n",
      "Naftisol     0.596466\n",
      "Placebo      0.581331\n",
      "Propriva     0.512884\n",
      "Ramicane     0.320955\n",
      "Stelasyn     0.573111\n",
      "Zoniferol    0.516398\n",
      "Name: Tumor Volume (mm3), dtype: float64\n"
     ]
    },
    {
     "data": {
      "text/html": [
       "<div>\n",
       "<style scoped>\n",
       "    .dataframe tbody tr th:only-of-type {\n",
       "        vertical-align: middle;\n",
       "    }\n",
       "\n",
       "    .dataframe tbody tr th {\n",
       "        vertical-align: top;\n",
       "    }\n",
       "\n",
       "    .dataframe thead th {\n",
       "        text-align: right;\n",
       "    }\n",
       "</style>\n",
       "<table border=\"1\" class=\"dataframe\">\n",
       "  <thead>\n",
       "    <tr style=\"text-align: right;\">\n",
       "      <th></th>\n",
       "      <th>Mean</th>\n",
       "      <th>Median</th>\n",
       "      <th>Variance</th>\n",
       "      <th>St. Dev</th>\n",
       "      <th>Standard Error</th>\n",
       "    </tr>\n",
       "    <tr>\n",
       "      <th>Drug Regimen</th>\n",
       "      <th></th>\n",
       "      <th></th>\n",
       "      <th></th>\n",
       "      <th></th>\n",
       "      <th></th>\n",
       "    </tr>\n",
       "  </thead>\n",
       "  <tbody>\n",
       "    <tr>\n",
       "      <th>Capomulin</th>\n",
       "      <td>40.675741</td>\n",
       "      <td>41.557809</td>\n",
       "      <td>24.947764</td>\n",
       "      <td>4.994774</td>\n",
       "      <td>0.329346</td>\n",
       "    </tr>\n",
       "    <tr>\n",
       "      <th>Ceftamin</th>\n",
       "      <td>52.591172</td>\n",
       "      <td>51.776157</td>\n",
       "      <td>39.290177</td>\n",
       "      <td>6.268188</td>\n",
       "      <td>0.469821</td>\n",
       "    </tr>\n",
       "    <tr>\n",
       "      <th>Infubinol</th>\n",
       "      <td>52.884795</td>\n",
       "      <td>51.820584</td>\n",
       "      <td>43.128684</td>\n",
       "      <td>6.567243</td>\n",
       "      <td>0.492236</td>\n",
       "    </tr>\n",
       "    <tr>\n",
       "      <th>Ketapril</th>\n",
       "      <td>55.235638</td>\n",
       "      <td>53.698743</td>\n",
       "      <td>68.553577</td>\n",
       "      <td>8.279709</td>\n",
       "      <td>0.603860</td>\n",
       "    </tr>\n",
       "    <tr>\n",
       "      <th>Naftisol</th>\n",
       "      <td>54.331565</td>\n",
       "      <td>52.509285</td>\n",
       "      <td>66.173479</td>\n",
       "      <td>8.134708</td>\n",
       "      <td>0.596466</td>\n",
       "    </tr>\n",
       "    <tr>\n",
       "      <th>Placebo</th>\n",
       "      <td>54.033581</td>\n",
       "      <td>52.288934</td>\n",
       "      <td>61.168083</td>\n",
       "      <td>7.821003</td>\n",
       "      <td>0.581331</td>\n",
       "    </tr>\n",
       "    <tr>\n",
       "      <th>Propriva</th>\n",
       "      <td>52.322552</td>\n",
       "      <td>50.854632</td>\n",
       "      <td>42.351070</td>\n",
       "      <td>6.507770</td>\n",
       "      <td>0.512884</td>\n",
       "    </tr>\n",
       "    <tr>\n",
       "      <th>Ramicane</th>\n",
       "      <td>40.216745</td>\n",
       "      <td>40.673236</td>\n",
       "      <td>23.486704</td>\n",
       "      <td>4.846308</td>\n",
       "      <td>0.320955</td>\n",
       "    </tr>\n",
       "    <tr>\n",
       "      <th>Stelasyn</th>\n",
       "      <td>54.233149</td>\n",
       "      <td>52.431737</td>\n",
       "      <td>59.450562</td>\n",
       "      <td>7.710419</td>\n",
       "      <td>0.573111</td>\n",
       "    </tr>\n",
       "    <tr>\n",
       "      <th>Zoniferol</th>\n",
       "      <td>53.236507</td>\n",
       "      <td>51.818479</td>\n",
       "      <td>48.533355</td>\n",
       "      <td>6.966589</td>\n",
       "      <td>0.516398</td>\n",
       "    </tr>\n",
       "  </tbody>\n",
       "</table>\n",
       "</div>"
      ],
      "text/plain": [
       "                   Mean     Median   Variance   St. Dev  Standard Error\n",
       "Drug Regimen                                                           \n",
       "Capomulin     40.675741  41.557809  24.947764  4.994774        0.329346\n",
       "Ceftamin      52.591172  51.776157  39.290177  6.268188        0.469821\n",
       "Infubinol     52.884795  51.820584  43.128684  6.567243        0.492236\n",
       "Ketapril      55.235638  53.698743  68.553577  8.279709        0.603860\n",
       "Naftisol      54.331565  52.509285  66.173479  8.134708        0.596466\n",
       "Placebo       54.033581  52.288934  61.168083  7.821003        0.581331\n",
       "Propriva      52.322552  50.854632  42.351070  6.507770        0.512884\n",
       "Ramicane      40.216745  40.673236  23.486704  4.846308        0.320955\n",
       "Stelasyn      54.233149  52.431737  59.450562  7.710419        0.573111\n",
       "Zoniferol     53.236507  51.818479  48.533355  6.966589        0.516398"
      ]
     },
     "execution_count": 133,
     "metadata": {},
     "output_type": "execute_result"
    }
   ],
   "source": [
    "# Generate a summary statistics table of mean, median, variance, standard deviation, and SEM of the tumor volume for each regimen\n",
    "\n",
    "#Make a dataframe of regimen and tumor volume\n",
    "#Group by the regimen and get the count for each volume \n",
    "#Get the statistics from the different regimens\n",
    "#Store them into a summmary dataframe\n",
    "\n",
    "tumor_data = combined_data[[\"Drug Regimen\",\"Tumor Volume (mm3)\"]]\n",
    "regimen_group = tumor_data.groupby(\"Drug Regimen\")\n",
    "regimen_count = regimen_group[\"Drug Regimen\"].count()\n",
    "regimen_mean = regimen_group[\"Tumor Volume (mm3)\"].mean()\n",
    "print(regimen_mean)\n",
    "regimen_median = regimen_group[\"Tumor Volume (mm3)\"].median()\n",
    "print(regimen_median)\n",
    "regimen_var = regimen_group[\"Tumor Volume (mm3)\"].var()\n",
    "print(regimen_var)\n",
    "regimen_std = regimen_group[\"Tumor Volume (mm3)\"].std()\n",
    "print(regimen_std)\n",
    "regimen_sem = regimen_group[\"Tumor Volume (mm3)\"].sem()\n",
    "print(regimen_sem)\n",
    "\n",
    "summary_df =pd.DataFrame({\"Mean\":regimen_mean,\"Median\":regimen_median,\"Variance\":regimen_var,\"St. Dev\":regimen_std,\"Standard Error\":regimen_sem})\n",
    "summary_df"
   ]
  },
  {
   "cell_type": "markdown",
   "metadata": {},
   "source": [
    "## Bar plots"
   ]
  },
  {
   "cell_type": "code",
   "execution_count": 134,
   "metadata": {
    "scrolled": false
   },
   "outputs": [
    {
     "data": {
      "image/png": "[encoded data removed]",
      "text/plain": [
       "<Figure size 432x288 with 1 Axes>"
      ]
     },
     "metadata": {
      "needs_background": "light"
     },
     "output_type": "display_data"
    },
    {
     "data": {
      "text/plain": [
       "<Figure size 432x288 with 0 Axes>"
      ]
     },
     "metadata": {},
     "output_type": "display_data"
    }
   ],
   "source": [
    "# Generate a bar plot showing number of data points for each treatment regimen using pandas\n",
    "\n",
    "#Use the previously made dataframes for each regimen to get the name of each regimen, and the number of data points\n",
    "#Use regimen as the x-axis of the plot, number of data points as the y-axis label\n",
    "#Using DataFrame.plot(), plot the regimen vs the data points\n",
    "\n",
    "regimen_chart = regimen_count.plot(kind = \"bar\")\n",
    "regimen_chart.set_xlabel(\"Drug Regimen\")\n",
    "regimen_chart.set_ylabel(\"Data Points\")\n",
    "regimen_chart.set_title(\"Tumor Volume changes per Drug\")\n",
    "\n",
    "#Add more room on the axes, make the graph look prettier\n",
    "\n",
    "\n",
    "plt.show()\n",
    "plt.tight_layout()"
   ]
  },
  {
   "cell_type": "code",
   "execution_count": 135,
   "metadata": {},
   "outputs": [
    {
     "data": {
      "image/png": "[encoded data removed]",
      "text/plain": [
       "<Figure size 432x288 with 1 Axes>"
      ]
     },
     "metadata": {
      "needs_background": "light"
     },
     "output_type": "display_data"
    },
    {
     "data": {
      "text/plain": [
       "<Figure size 432x288 with 0 Axes>"
      ]
     },
     "metadata": {},
     "output_type": "display_data"
    }
   ],
   "source": [
    "# Generate a bar plot showing number of data points for each treatment regimen using pyplot\n",
    "\n",
    "#Store the regimen names and data points per regimen in their own separate variables\n",
    "#Use pyplot to make the bar chart\n",
    "#Label the chart the same as the other one\n",
    "\n",
    "x_axis = np.arange(len(regimen_count))\n",
    "plt.bar(x_axis,regimen_count,color=\"b\",alpha = .5,align =\"center\")\n",
    "tick_locations = [value for value in x_axis]\n",
    "drug_axis = [\"Capomulin\",\"Ceftamin\",\"Infubinol\",\"Ketapril\",\"Naftisol\",\"Placebo\",\"Propriva\",\"Ramicane\",\"Stelasyn\",\"Zoniferol\"]\n",
    "plt.xticks(tick_locations,drug_axis,rotation = 45)\n",
    "\n",
    "plt.ylim(0,max(regimen_count)+50)\n",
    "plt.title(\"Tumor Volume changes per Drug\")\n",
    "plt.xlabel(\"Drug Regimen\")\n",
    "plt.ylabel(\"Data Points\")\n",
    "plt.show()\n",
    "plt.tight_layout()\n",
    "\n"
   ]
  },
  {
   "cell_type": "markdown",
   "metadata": {},
   "source": [
    "## Pie plots"
   ]
  },
  {
   "cell_type": "code",
   "execution_count": 136,
   "metadata": {},
   "outputs": [
    {
     "data": {
      "image/png": "[encoded data removed]",
      "text/plain": [
       "<Figure size 432x288 with 1 Axes>"
      ]
     },
     "metadata": {},
     "output_type": "display_data"
    }
   ],
   "source": [
    "# Generate a pie plot showing the distribution of female versus male mice using pandas\n",
    "\n",
    "#Make a dataframe of the data looking at the gender of the mice\n",
    "#Using DataFrame.plot(), make a pie chart of female vs male mice\n",
    "gender_df = combined_data[\"Sex\"].value_counts()\n",
    "\n",
    "gender_df.plot(kind = \"pie\", legend = True, title = \"Gender Distributon of Mice\",autopct='%1.1f%%',fontsize = 14)\n",
    "plt.axis('equal')\n",
    "plt.show()"
   ]
  },
  {
   "cell_type": "code",
   "execution_count": 137,
   "metadata": {},
   "outputs": [
    {
     "data": {
      "image/png": "[encoded data removed]",
      "text/plain": [
       "<Figure size 432x288 with 1 Axes>"
      ]
     },
     "metadata": {},
     "output_type": "display_data"
    }
   ],
   "source": [
    "# Generate a pie plot showing the distribution of female versus male mice using pyplot\n",
    "\n",
    "#Get the total number of male mice and female mice, and store them in a list\n",
    "#Store the gender names in a list\n",
    "#Use pyplot to make the pie chart\n",
    "explode = (.1,0)\n",
    "label = [\"Male\",\"Female\"]\n",
    "\n",
    "plt.pie(gender_df,explode=explode,labels=label,autopct=\"%1.1f%%\",shadow=True,startangle=0)\n",
    "plt.show()"
   ]
  },
  {
   "cell_type": "markdown",
   "metadata": {},
   "source": [
    "## Quartiles, outliers and boxplots"
   ]
  },
  {
   "cell_type": "code",
   "execution_count": 218,
   "metadata": {},
   "outputs": [
    {
     "name": "stdout",
     "output_type": "stream",
     "text": [
      "Drug Regimen Capomulin:\n",
      "The lower quartile of the final volume is: 32.37735684\n",
      "The upper quartile of the final volume is: 40.1592203\n",
      "The interquartile range of the final volume is: 7.7819\n",
      "The median of final volume is: 37.31184577\n",
      "Values below 20.70456164999999 could be outliers\n",
      "Values above 51.83201549 could be outliers\n",
      "\n",
      "Drug Regimen Ramicane:\n",
      "The lower quartile of the final volume is: 30.981175224999998\n",
      "The upper quartile of the final volume is: 38.508305307499995\n",
      "The interquartile range of the final volume is: 7.5271\n",
      "The median of final volume is: 34.848627300000004 \n",
      "Values below 19.690480101250003 could be outliers\n",
      "Values above 49.79900043124999 could be outliers\n",
      "\n",
      "Drug Regimen Infubinol:\n",
      "The lower quartile of the final volume is: 62.75445141\n",
      "The upper quartile of the final volume is: 67.68556862\n",
      "The interquartile range of the final volume is: 4.9311\n",
      "The median of final volume is: 66.08306589 \n",
      "Values below 55.35777559500001 could be outliers\n",
      "Values above 75.08224443499999 could be outliers\n",
      "\n",
      "Drug Regimen Ceftamin:\n",
      "The lower quartile of the final volume is: 61.43389223\n",
      "The upper quartile of the final volume is: 67.52748237\n",
      "The interquartile range of the final volume is: 6.0936\n",
      "The median of final volume is: 64.29983003 \n",
      "Values below 52.29350701999999 could be outliers\n",
      "Values above 76.66786758 could be outliers\n",
      "\n"
     ]
    }
   ],
   "source": [
    "# Calculate the final tumor volume of each mouse across four of the most promising treatment regimens. Calculate the IQR and quantitatively determine if there are any potential outliers.\n",
    "\n",
    "#Create four dataframes of just the top drugs\n",
    "capomulin_data = combined_data.loc[combined_data[\"Drug Regimen\"] ==\"Capomulin\"]\n",
    "ramicane_data = combined_data.loc[combined_data[\"Drug Regimen\"] ==\"Ramicane\"]\n",
    "infubinol_data = combined_data.loc[combined_data[\"Drug Regimen\"] ==\"Infubinol\"]\n",
    "ceftamin_data = combined_data.loc[combined_data[\"Drug Regimen\"] ==\"Ceftamin\"]\n",
    "\n",
    "#Sort the data by the last timepoint to get the final volumes for each regimen\n",
    "fin_capomulin_data = capomulin_data.loc[capomulin_data[\"Timepoint\"] ==45]\n",
    "fin_ramicane_data = ramicane_data.loc[ramicane_data[\"Timepoint\"] ==45]\n",
    "fin_infubinol_data = infubinol_data.loc[infubinol_data[\"Timepoint\"] ==45]\n",
    "fin_ceftamin_data = ceftamin_data.loc[ceftamin_data[\"Timepoint\"] ==45]\n",
    "#print(fin_capomulin_data[\"Tumor Volume (mm3)\"])\n",
    "#print(fin_ramicane_data[\"Tumor Volume (mm3)\"])\n",
    "#print(fin_infubinol_data[\"Tumor Volume (mm3)\"])\n",
    "#print(fin_ceftamin_data[\"Tumor Volume (mm3)\"])\n",
    "\n",
    "#Get the quartiles for each regimen\n",
    "quartiles_cap = fin_capomulin_data[\"Tumor Volume (mm3)\"].quantile([.25,.5,.75])\n",
    "quartiles_ram = fin_ramicane_data[\"Tumor Volume (mm3)\"].quantile([.25,.5,.75])\n",
    "quartiles_inf = fin_infubinol_data[\"Tumor Volume (mm3)\"].quantile([.25,.5,.75])\n",
    "quartiles_cef = fin_ceftamin_data[\"Tumor Volume (mm3)\"].quantile([.25,.5,.75])\n",
    "\n",
    "#Calculate the upper and lower boundaries for each regimen\n",
    "lowerq_cap = quartiles_cap[.25]\n",
    "upperq_cap = quartiles_cap[.75]\n",
    "iqr_cap = upperq_cap - lowerq_cap\n",
    "\n",
    "lowerq_ram = quartiles_ram[.25]\n",
    "upperq_ram = quartiles_ram[.75]\n",
    "iqr_ram = upperq_ram - lowerq_ram\n",
    "\n",
    "lowerq_inf = quartiles_inf[.25]\n",
    "upperq_inf = quartiles_inf[.75]\n",
    "iqr_inf = upperq_inf - lowerq_inf\n",
    "\n",
    "lowerq_cef = quartiles_cef[.25]\n",
    "upperq_cef = quartiles_cef[.75]\n",
    "iqr_cef = upperq_cef - lowerq_cef\n",
    "\n",
    "#Print out the results for each drug test\n",
    "#Probably could've used a for loop to reduce the lines\n",
    "print(\"Drug Regimen Capomulin:\")\n",
    "print(f\"The lower quartile of the final volume is: {lowerq_cap}\")\n",
    "print(f\"The upper quartile of the final volume is: {upperq_cap}\")\n",
    "print(f\"The interquartile range of the final volume is: {round(iqr_cap,4)}\")\n",
    "print(f\"The median of final volume is: {quartiles_cap[0.5]}\")\n",
    "\n",
    "#Calculate the lower and upper bounds to find potential outliers\n",
    "lower_bound_cap = lowerq_cap - (1.5*iqr_cap)\n",
    "upper_bound_cap = upperq_cap + (1.5*iqr_cap)\n",
    "print(f\"Values below {lower_bound_cap} could be outliers\")\n",
    "print(f\"Values above {upper_bound_cap} could be outliers\\n\")\n",
    "\n",
    "print(\"Drug Regimen Ramicane:\")\n",
    "print(f\"The lower quartile of the final volume is: {lowerq_ram}\")\n",
    "print(f\"The upper quartile of the final volume is: {upperq_ram}\")\n",
    "print(f\"The interquartile range of the final volume is: {round(iqr_ram,4)}\")\n",
    "print(f\"The median of final volume is: {quartiles_ram[0.5]} \")\n",
    "\n",
    "lower_bound_ram = lowerq_ram - (1.5*iqr_ram)\n",
    "upper_bound_ram = upperq_ram + (1.5*iqr_ram)\n",
    "print(f\"Values below {lower_bound_ram} could be outliers\")\n",
    "print(f\"Values above {upper_bound_ram} could be outliers\\n\")\n",
    "      \n",
    "print(\"Drug Regimen Infubinol:\")      \n",
    "print(f\"The lower quartile of the final volume is: {lowerq_inf}\")\n",
    "print(f\"The upper quartile of the final volume is: {upperq_inf}\")\n",
    "print(f\"The interquartile range of the final volume is: {round(iqr_inf,4)}\")\n",
    "print(f\"The median of final volume is: {quartiles_inf[0.5]} \")\n",
    "\n",
    "lower_bound_inf = lowerq_inf - (1.5*iqr_inf)\n",
    "upper_bound_inf = upperq_inf + (1.5*iqr_inf)\n",
    "print(f\"Values below {lower_bound_inf} could be outliers\")\n",
    "print(f\"Values above {upper_bound_inf} could be outliers\\n\")\n",
    "\n",
    "print(\"Drug Regimen Ceftamin:\")      \n",
    "print(f\"The lower quartile of the final volume is: {lowerq_cef}\")\n",
    "print(f\"The upper quartile of the final volume is: {upperq_cef}\")\n",
    "print(f\"The interquartile range of the final volume is: {round(iqr_cef,4)}\")\n",
    "print(f\"The median of final volume is: {quartiles_cef[0.5]} \")\n",
    "\n",
    "lower_bound_cef = lowerq_cef - (1.5*iqr_cef)\n",
    "upper_bound_cef = upperq_cef + (1.5*iqr_cef)\n",
    "print(f\"Values below {lower_bound_cef} could be outliers\")\n",
    "print(f\"Values above {upper_bound_cef} could be outliers\\n\")\n"
   ]
  },
  {
   "cell_type": "code",
   "execution_count": 219,
   "metadata": {},
   "outputs": [
    {
     "data": {
      "image/png": "[encoded data removed]",
      "text/plain": [
       "<Figure size 432x288 with 1 Axes>"
      ]
     },
     "metadata": {
      "needs_background": "light"
     },
     "output_type": "display_data"
    }
   ],
   "source": [
    "# Generate a box plot of the final tumor volume of each mouse across four regimens of interest\n",
    "#Add labels to box plot\n",
    "vols_cap = fin_capomulin_data[\"Tumor Volume (mm3)\"]\n",
    "vols_ram = fin_ramicane_data[\"Tumor Volume (mm3)\"]\n",
    "vols_inf = fin_infubinol_data[\"Tumor Volume (mm3)\"]\n",
    "vols_cef = fin_ceftamin_data[\"Tumor Volume (mm3)\"]\n",
    "\n",
    "plt.boxplot([vols_cap, vols_ram,vols_inf,vols_cef],vert=False)\n",
    "\n",
    "plt.title(\"Final Tumor Volume by Drug Regimen\")\n",
    "plt.xlabel(\"Tumor Volume (mm3)\")\n",
    "plt.yticks([1,2,3,4],[\"Capomulin\",\"Ramicane\",\"Infubinol\",\"Ceftamin\"])\n",
    "plt.grid(axis=\"x\",linestyle=\"-\",which=\"both\")\n",
    "\n",
    "plt.show()"
   ]
  },
  {
   "cell_type": "markdown",
   "metadata": {},
   "source": [
    "## Line and scatter plots"
   ]
  },
  {
   "cell_type": "code",
   "execution_count": 215,
   "metadata": {},
   "outputs": [
    {
     "data": {
      "image/png": "[encoded data removed]",
      "text/plain": [
       "<Figure size 432x288 with 1 Axes>"
      ]
     },
     "metadata": {
      "needs_background": "light"
     },
     "output_type": "display_data"
    }
   ],
   "source": [
    "# Generate a line plot of time point versus tumor volume for a mouse treated with Capomulin\n",
    "mouse_df = capomulin_data.loc[capomulin_data[\"Mouse ID\"] == \"m601\"]\n",
    "mouse_df = mouse_df[[\"Timepoint\",\"Tumor Volume (mm3)\"]]\n",
    "plt.plot(mouse_df[\"Timepoint\"],mouse_df[\"Tumor Volume (mm3)\"], color = \"r\")\n",
    "plt.xlabel(\"Time\")\n",
    "plt.ylabel(\"Tumor Volume (mm3)\")\n",
    "plt.xticks(mouse_df[\"Timepoint\"])\n",
    "plt.ylim(26,max(mouse_df[\"Tumor Volume (mm3)\"]) +2)\n",
    "plt.title(\"Tumor Volume across Treatment Period for \\nMouse m601 treated with Capomulin\")\n",
    "plt.grid(axis=\"y\")\n",
    "plt.show()"
   ]
  },
  {
   "cell_type": "code",
   "execution_count": 141,
   "metadata": {},
   "outputs": [
    {
     "name": "stdout",
     "output_type": "stream",
     "text": [
      "Weight (g)\n",
      "15    36.182040\n",
      "17    37.214133\n",
      "19    41.182391\n",
      "20    39.141053\n",
      "21    42.088700\n",
      "22    43.288490\n",
      "23    43.341051\n",
      "24    44.805810\n",
      "25    44.062109\n",
      "Name: Tumor Volume (mm3), dtype: float64\n"
     ]
    },
    {
     "data": {
      "image/png": "[encoded data removed]",
      "text/plain": [
       "<Figure size 432x288 with 1 Axes>"
      ]
     },
     "metadata": {
      "needs_background": "light"
     },
     "output_type": "display_data"
    }
   ],
   "source": [
    "# Generate a scatter plot of mouse weight versus average tumor volume for the Capomulin regimen\n",
    "#Group Cap dataframe by mouse weight and use mean() to find the average tumor volume for each weight\n",
    "mouse_weight = capomulin_data.groupby(\"Weight (g)\")\n",
    "mouse_mean = mouse_weight[\"Tumor Volume (mm3)\"].mean()\n",
    "print(mouse_mean)\n",
    "\n",
    "#Get the unique weights and sort them in ascending order\n",
    "x_axis = sorted(capomulin_data[\"Weight (g)\"].unique())\n",
    "\n",
    "#Make scatter plot\n",
    "plt.scatter(x_axis,mouse_mean,color = \"g\",marker = \"D\")\n",
    "plt.title(\"Average Tumor Volume across Mouse Weight for Capomulin Regimen\")\n",
    "plt.xlabel(\"Mouse Weight (g)\")\n",
    "plt.ylabel(\"Average Tumor Volume (mm3)\")\n",
    "plt.ylim(mouse_mean.min()-2,mouse_mean.max()+2)\n",
    "plt.xlim(x_axis[0]-1,x_axis[len(x_axis)-1]+1)\n",
    "plt.grid()\n",
    "plt.show()"
   ]
  },
  {
   "cell_type": "code",
   "execution_count": 182,
   "metadata": {},
   "outputs": [
    {
     "name": "stdout",
     "output_type": "stream",
     "text": [
      "The correlation between mouse weight and average tumor volume is 0.95.\n",
      "The line of best fit for the correlation is y = 0.89x + 22.76\n"
     ]
    },
    {
     "data": {
      "image/png": "[encoded data removed]",
      "text/plain": [
       "<Figure size 432x288 with 1 Axes>"
      ]
     },
     "metadata": {
      "needs_background": "light"
     },
     "output_type": "display_data"
    }
   ],
   "source": [
    "# Calculate the correlation coefficient and linear regression model for mouse weight and average tumor volume for the Capomulin regimen\n",
    "corr = st.pearsonr(x_axis,mouse_mean)\n",
    "print(f\"The correlation between mouse weight and average tumor volume is {round(corr[0],2)}.\")\n",
    "\n",
    "#weights = [float(i) for i in x_axis]\n",
    "#print(weights)\n",
    "#mouse_mean = mouse_mean.astype(float)\n",
    "#print(mouse_mean)\n",
    "\n",
    "#Use linregress to get linear regression model data\n",
    "(slope,intercept,rvalue,pvalue,stderr) = linregress(x_axis,mouse_mean)\n",
    "#print(f\"{slope} {intercept} {rvalue} {pvalue} {stderr}\")\n",
    "\n",
    "#Get the values to plot line of best fit, storing them in a list\n",
    "regress_values = []\n",
    "for x in x_axis:\n",
    "    regress_values.append((x * slope) + intercept)\n",
    "\n",
    "#print(regress_values)\n",
    "#Make line equation\n",
    "line_eq = \"y = \" + str(round(slope,2)) + \"x + \" + str(round(intercept,2))\n",
    "print(f\"The line of best fit for the correlation is {line_eq}\")\n",
    "\n",
    "#Print the linear regression on the scatter plot\n",
    "plt.scatter(x_axis,mouse_mean,color = \"g\",marker = \"D\")\n",
    "plt.title(\"Average Tumor Volume across Mouse Weight \\nfor Capomulin Regimen\")\n",
    "plt.xlabel(\"Mouse Weight (g)\")\n",
    "plt.ylabel(\"Average Tumor Volume (mm3)\")\n",
    "plt.ylim(mouse_mean.min()-2,mouse_mean.max()+2)\n",
    "plt.xlim(x_axis[0]-1,x_axis[len(x_axis)-1]+1)\n",
    "plt.grid()\n",
    "plt.plot(x_axis,regress_values,\"--\")\n",
    "plt.annotate(line_eq,(21,40),color = \"b\",fontsize = 13)\n",
    "plt.show()"
   ]
  },
  {
   "cell_type": "code",
   "execution_count": null,
   "metadata": {},
   "outputs": [],
   "source": []
  }
 ],
 "metadata": {
  "anaconda-cloud": {},
  "kernelspec": {
   "display_name": "Python 3.7.4 64-bit ('PythonData': conda)",
   "language": "python",
   "name": "python37464bitpythondatacondaaf71fc3f5dd34866a438487bc0d8ac87"
  },
  "language_info": {
   "codemirror_mode": {
    "name": "ipython",
    "version": 3
   },
   "file_extension": ".py",
   "mimetype": "text/x-python",
   "name": "python",
   "nbconvert_exporter": "python",
   "pygments_lexer": "ipython3",
   "version": "3.7.4"
  }
 },
 "nbformat": 4,
 "nbformat_minor": 2
}
